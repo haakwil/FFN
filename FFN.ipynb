{
 "cells": [
  {
   "cell_type": "code",
   "execution_count": 1,
   "id": "heated-paradise",
   "metadata": {},
   "outputs": [],
   "source": [
    "import ffn\n",
    "#%pylab inline"
   ]
  },
  {
   "cell_type": "code",
   "execution_count": 11,
   "id": "handed-gregory",
   "metadata": {},
   "outputs": [
    {
     "ename": "SyntaxError",
     "evalue": "closing parenthesis ']' does not match opening parenthesis '(' (<ipython-input-11-2cae25cbd4bf>, line 1)",
     "output_type": "error",
     "traceback": [
      "\u001b[0;36m  File \u001b[0;32m\"<ipython-input-11-2cae25cbd4bf>\"\u001b[0;36m, line \u001b[0;32m1\u001b[0m\n\u001b[0;31m    data = ffn.get(\"AGBA\",\"ALA\",\"ALUS\",\"AMHC\",\"ANDA\",\"APXT\",\"BRLI\",\"BRPA\",\"CCAC\",\"CCX\",\"CGRO\",\"CHAQ\",\"CHPM\",\"CIIC\",\"CRSA\",\"DFNS\",\"DFPH\",\"ESSC\",\"EXPC\",\"FSRV\",\"FUSE\",\"GIK\",\"GIX\",\"GLEO\",\"GNRS\",\"GRNV\",\"GSAH\",\"GXGX\",\"HEC\",\"IPV\",\"JIH\",\"JWS\",\"LACQ\",\"LATN\",\"LIVK\",\"LOAC\",\"MCMJ\",\"NBAC\",\"NPA\",\"ROCH\",\"RPLA\",\"SCPE\",\"SCVX\",\"SFTW\",\"SOAC\",\"SRAC\",\"SSPK\",\"TDAC\",\"THBR\",\"THCA\",\"THCB\",\"TREB\",\"WPF\",\"ZGYH\"]', start='2017-01-01', end='2020-12-31')\u001b[0m\n\u001b[0m                                                                                                                                                                                                                                                                                                                                                                                                  ^\u001b[0m\n\u001b[0;31mSyntaxError\u001b[0m\u001b[0;31m:\u001b[0m closing parenthesis ']' does not match opening parenthesis '('\n"
     ]
    }
   ],
   "source": [
    "data = ffn.get(\"AGBA\",\"ALA\",\"ALUS\",\"AMHC\",\"ANDA\",\"APXT\",\"BRLI\",\"BRPA\",\"CCAC\",\"CCX\",\"CGRO\",\"CHAQ\",\"CHPM\",\"CIIC\",\"CRSA\",\"DFNS\",\"DFPH\",\"ESSC\",\"EXPC\",\"FSRV\",\"FUSE\",\"GIK\",\"GIX\",\"GLEO\",\"GNRS\",\"GRNV\",\"GSAH\",\"GXGX\",\"HEC\",\"IPV\",\"JIH\",\"JWS\",\"LACQ\",\"LATN\",\"LIVK\",\"LOAC\",\"MCMJ\",\"NBAC\",\"NPA\",\"ROCH\",\"RPLA\",\"SCPE\",\"SCVX\",\"SFTW\",\"SOAC\",\"SRAC\",\"SSPK\",\"TDAC\",\"THBR\",\"THCA\",\"THCB\",\"TREB\",\"WPF\",\"ZGYH\"]', start='2017-01-01', end='2020-12-31')\n"
   ]
  },
  {
   "cell_type": "code",
   "execution_count": 9,
   "id": "concerned-alberta",
   "metadata": {},
   "outputs": [
    {
     "ename": "SyntaxError",
     "evalue": "invalid syntax (<ipython-input-9-73d00026ff77>, line 1)",
     "output_type": "error",
     "traceback": [
      "\u001b[0;36m  File \u001b[0;32m\"<ipython-input-9-73d00026ff77>\"\u001b[0;36m, line \u001b[0;32m1\u001b[0m\n\u001b[0;31m    print data.head()\u001b[0m\n\u001b[0m          ^\u001b[0m\n\u001b[0;31mSyntaxError\u001b[0m\u001b[0;31m:\u001b[0m invalid syntax\n"
     ]
    }
   ],
   "source": [
    "print data.head()"
   ]
  },
  {
   "cell_type": "code",
   "execution_count": 5,
   "id": "saved-funds",
   "metadata": {},
   "outputs": [
    {
     "ename": "NameError",
     "evalue": "name 'prices' is not defined",
     "output_type": "error",
     "traceback": [
      "\u001b[0;31m---------------------------------------------------------------------------\u001b[0m",
      "\u001b[0;31mNameError\u001b[0m                                 Traceback (most recent call last)",
      "\u001b[0;32m<ipython-input-5-1f42f6aa6261>\u001b[0m in \u001b[0;36m<module>\u001b[0;34m\u001b[0m\n\u001b[0;32m----> 1\u001b[0;31m \u001b[0mstats\u001b[0m \u001b[0;34m=\u001b[0m \u001b[0mprices\u001b[0m\u001b[0;34m.\u001b[0m\u001b[0mcalc_stats\u001b[0m\u001b[0;34m(\u001b[0m\u001b[0;34m)\u001b[0m\u001b[0;34m\u001b[0m\u001b[0;34m\u001b[0m\u001b[0m\n\u001b[0m\u001b[1;32m      2\u001b[0m \u001b[0mstats\u001b[0m\u001b[0;34m.\u001b[0m\u001b[0mdisplay\u001b[0m\u001b[0;34m(\u001b[0m\u001b[0;34m)\u001b[0m\u001b[0;34m\u001b[0m\u001b[0;34m\u001b[0m\u001b[0m\n",
      "\u001b[0;31mNameError\u001b[0m: name 'prices' is not defined"
     ]
    }
   ],
   "source": [
    "stats = prices.calc_stats()\n",
    "stats.display()"
   ]
  },
  {
   "cell_type": "code",
   "execution_count": null,
   "id": "covered-ecuador",
   "metadata": {},
   "outputs": [],
   "source": []
  }
 ],
 "metadata": {
  "kernelspec": {
   "display_name": "Python 3",
   "language": "python",
   "name": "python3"
  },
  "language_info": {
   "codemirror_mode": {
    "name": "ipython",
    "version": 3
   },
   "file_extension": ".py",
   "mimetype": "text/x-python",
   "name": "python",
   "nbconvert_exporter": "python",
   "pygments_lexer": "ipython3",
   "version": "3.8.5"
  }
 },
 "nbformat": 4,
 "nbformat_minor": 5
}
